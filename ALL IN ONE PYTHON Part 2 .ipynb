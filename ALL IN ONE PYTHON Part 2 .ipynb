{
 "cells": [
  {
   "cell_type": "markdown",
   "id": "49f28f10",
   "metadata": {},
   "source": [
    "# Part 2 : Python Datatype"
   ]
  },
  {
   "cell_type": "markdown",
   "id": "e3444eaf",
   "metadata": {},
   "source": [
    "## A.String"
   ]
  },
  {
   "cell_type": "code",
   "execution_count": null,
   "id": "c96f5580",
   "metadata": {},
   "outputs": [],
   "source": [
    "String – String represents group of characters. \n",
    "         Strings are enclosed in double quotes or single quotes. \n",
    "         The str data type represents a String.\n",
    "\n",
    "Ex:- “Hello”, “world”, ‘faruk’"
   ]
  },
  {
   "cell_type": "code",
   "execution_count": 1,
   "id": "fc9f4730",
   "metadata": {},
   "outputs": [
    {
     "data": {
      "text/plain": [
       "'python'"
      ]
     },
     "execution_count": 1,
     "metadata": {},
     "output_type": "execute_result"
    }
   ],
   "source": [
    "# String in Python\n",
    "# It accepts everything\n",
    "# Features of a string\n",
    "# - Syntax: ''/\"\" is used to declare a string\n",
    "# - Background data structure of a string is Array\n",
    "# 'python' ==> |p|y|t|h|o|n|\n",
    "s = 'python'\n",
    "s"
   ]
  },
  {
   "cell_type": "code",
   "execution_count": 2,
   "id": "b8abcfe6",
   "metadata": {},
   "outputs": [
    {
     "name": "stdout",
     "output_type": "stream",
     "text": [
      "p\n"
     ]
    }
   ],
   "source": [
    "# when indexing starts from left to right its a +ve indedxing\n",
    "# +ve indexing starts from 0 and ends at (n[total elements]-1)\n",
    "# featch p\n",
    "s = 'python'\n",
    "print(s[0])"
   ]
  },
  {
   "cell_type": "code",
   "execution_count": 3,
   "id": "9795e22d",
   "metadata": {},
   "outputs": [
    {
     "name": "stdout",
     "output_type": "stream",
     "text": [
      "n\n",
      "h\n"
     ]
    }
   ],
   "source": [
    "# - inexing is used to fetch a single element from a sequence\n",
    "# it supports -ve indexing as well\n",
    "# -ve indexing starts from -1 and ends at -n[total elements]\n",
    "s = 'python'\n",
    "# -ve index starts with right side\n",
    "print(s[-1])\n",
    "print(s[-3])"
   ]
  },
  {
   "cell_type": "code",
   "execution_count": 4,
   "id": "10befd0d",
   "metadata": {},
   "outputs": [
    {
     "name": "stdout",
     "output_type": "stream",
     "text": [
      "thon\n",
      "thon\n",
      "thon\n",
      "\n"
     ]
    }
   ],
   "source": [
    "# - Duplicates are allowed in a string\n",
    "# - it supports slicing\n",
    "# - slicing is used to access a part of a string/ we can access substring of whole string\n",
    "# access thon\n",
    "#[start:Stop]\n",
    "s = 'python'\n",
    "print(s[2:6])\n",
    "\n",
    "# when we want to read complete sequence then in slicing there is no need to put stop\n",
    "print(s[2:])\n",
    "print(s[2:900])\n",
    "print(s[600:])"
   ]
  },
  {
   "cell_type": "code",
   "execution_count": 5,
   "id": "88a18bd9",
   "metadata": {},
   "outputs": [
    {
     "name": "stdout",
     "output_type": "stream",
     "text": [
      "\n",
      "python\n"
     ]
    }
   ],
   "source": [
    "# slicing option is  a soft operation\n",
    "# basically it doesnt prompt any exception\n",
    "# if u get an empty output then ur logic is wrong\n",
    "print(s[-1000:-2000])\n",
    "print(s[:]) # meaning is  start reading from 0 and reach to end"
   ]
  },
  {
   "cell_type": "code",
   "execution_count": 6,
   "id": "d4ad2b58",
   "metadata": {},
   "outputs": [
    {
     "name": "stdout",
     "output_type": "stream",
     "text": [
      "python\n",
      "python\n",
      "pto\n",
      "ph\n"
     ]
    }
   ],
   "source": [
    "#steping\n",
    "# - default step is +1\n",
    "#s[start:stop:step]\n",
    "\n",
    "s = 'python'\n",
    "print(s[::])\n",
    "print(s[::1])\n",
    "\n",
    "# change the step\n",
    "print(s[::2])\n",
    "print(s[::3])"
   ]
  },
  {
   "cell_type": "code",
   "execution_count": 7,
   "id": "efcfbdaf",
   "metadata": {},
   "outputs": [
    {
     "name": "stdout",
     "output_type": "stream",
     "text": [
      "py\n",
      "py\n",
      "thon\n",
      "python\n",
      "nohtyp\n",
      "noh\n",
      "noht\n"
     ]
    }
   ],
   "source": [
    "# slicing can be -ve also\n",
    "s\n",
    "print(s[:2])\n",
    "print(s[-6:-4])\n",
    "\n",
    "# thon\n",
    "print(s[-4:])\n",
    "\n",
    "#RULE: Actual progress is from left to right\n",
    "# its possible becz step is +ve\n",
    "# But if we want to progress, read from right to left\n",
    "# then use step -ve , -1\n",
    "print(s[::1]) #+ve step: left to right\n",
    "\n",
    "print(s[::-1]) # -ve step: right to left\n",
    "\n",
    "# step -ve give./reads all elements in reverse order\n",
    "# read thon in reverse order==> noht\n",
    "\n",
    "print(s[:-4:-1])\n",
    "\n",
    "print(s[:-5:-1])"
   ]
  },
  {
   "cell_type": "code",
   "execution_count": 8,
   "id": "bee10d13",
   "metadata": {},
   "outputs": [],
   "source": [
    "#------------------------------------\n",
    "# Q. What are features of a string\n",
    "# Q. What is indexing, slicing\n",
    "# Q. WHen to use slicing /indexing\n",
    "#----------------------------------------"
   ]
  },
  {
   "cell_type": "markdown",
   "id": "20e442bf",
   "metadata": {},
   "source": [
    "## Methods of a string"
   ]
  },
  {
   "cell_type": "code",
   "execution_count": 9,
   "id": "8d273560",
   "metadata": {
    "scrolled": true
   },
   "outputs": [
    {
     "name": "stdout",
     "output_type": "stream",
     "text": [
      "['__add__', '__class__', '__contains__', '__delattr__', '__dir__', '__doc__', '__eq__', '__format__', '__ge__', '__getattribute__', '__getitem__', '__getnewargs__', '__gt__', '__hash__', '__init__', '__init_subclass__', '__iter__', '__le__', '__len__', '__lt__', '__mod__', '__mul__', '__ne__', '__new__', '__reduce__', '__reduce_ex__', '__repr__', '__rmod__', '__rmul__', '__setattr__', '__sizeof__', '__str__', '__subclasshook__', 'capitalize', 'casefold', 'center', 'count', 'encode', 'endswith', 'expandtabs', 'find', 'format', 'format_map', 'index', 'isalnum', 'isalpha', 'isascii', 'isdecimal', 'isdigit', 'isidentifier', 'islower', 'isnumeric', 'isprintable', 'isspace', 'istitle', 'isupper', 'join', 'ljust', 'lower', 'lstrip', 'maketrans', 'partition', 'removeprefix', 'removesuffix', 'replace', 'rfind', 'rindex', 'rjust', 'rpartition', 'rsplit', 'rstrip', 'split', 'splitlines', 'startswith', 'strip', 'swapcase', 'title', 'translate', 'upper', 'zfill']"
     ]
    }
   ],
   "source": [
    "print(dir(str),end=\"\")"
   ]
  },
  {
   "cell_type": "code",
   "execution_count": 10,
   "id": "16053b04",
   "metadata": {},
   "outputs": [
    {
     "name": "stdout",
     "output_type": "stream",
     "text": [
      "['capitalize', 'casefold', 'center', 'count', 'encode', 'endswith', 'expandtabs', 'find', 'format', 'format_map', 'index', 'isalnum', 'isalpha', 'isascii', 'isdecimal', 'isdigit', 'isidentifier', 'islower', 'isnumeric', 'isprintable', 'isspace', 'istitle', 'isupper', 'join', 'ljust', 'lower', 'lstrip', 'maketrans', 'partition', 'removeprefix', 'removesuffix', 'replace', 'rfind', 'rindex', 'rjust', 'rpartition', 'rsplit', 'rstrip', 'split', 'splitlines', 'startswith', 'strip', 'swapcase', 'title', 'translate', 'upper', 'zfill']"
     ]
    }
   ],
   "source": [
    "string_methods =   ['capitalize', 'casefold', 'center', 'count', 'encode', 'endswith', 'expandtabs', \n",
    "                    'find', 'format', 'format_map', 'index', 'isalnum', 'isalpha', 'isascii', 'isdecimal', \n",
    "                    'isdigit', 'isidentifier', 'islower', 'isnumeric', 'isprintable', 'isspace', 'istitle', \n",
    "                    'isupper', 'join', 'ljust', 'lower', 'lstrip', 'maketrans', 'partition', 'removeprefix', \n",
    "                    'removesuffix', 'replace', 'rfind', 'rindex', 'rjust', 'rpartition', 'rsplit', 'rstrip', \n",
    "                    'split', 'splitlines', 'startswith', 'strip', 'swapcase', 'title', 'translate', 'upper', \n",
    "                    'zfill']\n",
    "\n",
    "print(string_methods,end=\"\")"
   ]
  },
  {
   "cell_type": "code",
   "execution_count": 11,
   "id": "8a58c6c1",
   "metadata": {},
   "outputs": [
    {
     "name": "stdout",
     "output_type": "stream",
     "text": [
      "Hello all good morning\n"
     ]
    }
   ],
   "source": [
    "# 1.String_name.capitalize()\n",
    "#       Return a capitalized version of the string.\n",
    "#       More specifically, make the first character have upper case and the rest lower case\n",
    "\n",
    "\n",
    "s = 'python'\n",
    "a = 'hello all good morning'\n",
    "print(a.capitalize())"
   ]
  },
  {
   "cell_type": "code",
   "execution_count": 12,
   "id": "394a7566",
   "metadata": {},
   "outputs": [
    {
     "data": {
      "text/plain": [
       "'aiman shaikh_ss'"
      ]
     },
     "execution_count": 12,
     "metadata": {},
     "output_type": "execute_result"
    }
   ],
   "source": [
    "# 2.String_name.casefold()\n",
    "#     Return a version of the string suitable for caseless comparisons.\n",
    "   \n",
    "a = 'AIMAN SHAIKH_ß'\n",
    "a.casefold() # converting lower case"
   ]
  },
  {
   "cell_type": "code",
   "execution_count": 13,
   "id": "363ea7a6",
   "metadata": {},
   "outputs": [
    {
     "name": "stdout",
     "output_type": "stream",
     "text": [
      "$$$$$$$python$$$$$$$\n"
     ]
    }
   ],
   "source": [
    "# 3.String_name.center( len, fillchar= ‘ ’ )\n",
    "#        Return a centered string of length width.\n",
    "#        Padding is done using the specified fill character (default is a space).\n",
    "\n",
    "s = 'python'  \n",
    "print(s.center(20,'$'))"
   ]
  },
  {
   "cell_type": "code",
   "execution_count": 14,
   "id": "def49ee8",
   "metadata": {},
   "outputs": [
    {
     "name": "stdout",
     "output_type": "stream",
     "text": [
      "4\n",
      "2\n",
      "2\n"
     ]
    }
   ],
   "source": [
    "# 4.String_name.count( sub_str,start,end )\n",
    "#      Return the number of non-overlapping occurrences of substring sub in\n",
    "#      string S[start:end].  Optional arguments start and end are\n",
    "#      interpreted as in slice notation.\n",
    "\n",
    "a = 'hello all good morning'        \n",
    "print(a.count('o'))\n",
    "print(a.count('g'))\n",
    "print(a.count('l',4,10))"
   ]
  },
  {
   "cell_type": "code",
   "execution_count": 11,
   "id": "1f24ec84",
   "metadata": {},
   "outputs": [
    {
     "name": "stdout",
     "output_type": "stream",
     "text": [
      "b'My name is F\\\\xe5ruk'\n",
      "b'My name is Fruk'\n",
      "b'My name is F\\\\N{LATIN SMALL LETTER A WITH RING ABOVE}ruk'\n",
      "b'My name is F?ruk'\n",
      "b'My name is F&#229;ruk'\n"
     ]
    }
   ],
   "source": [
    "# 5.String_name.encode( encoding=' ', errors=' ' )\n",
    "\n",
    "# Encode the string using the codec registered for encoding.\n",
    "\n",
    "# encoding:\n",
    "# The encoding in which to encode string.\n",
    "# i)\tutf-8(default)\n",
    "# ii)\tutf-16\n",
    "# iii)\tutf-32\n",
    "# iv)\tascii\n",
    "# v)\tiscii\n",
    "\n",
    "# errors:\n",
    "# The error handling scheme to use for encoding errors.\n",
    "# i)\tstrict(default)\n",
    "# ii)\tignore\n",
    "# iii)\tnamerplace\n",
    "# iv)\treplace\n",
    "# v)\tbacklashreplace\n",
    "# vi)\txmlcharrefreplace\n",
    "\n",
    "txt = \"My name is Fåruk\"\n",
    "\n",
    "print(txt.encode(encoding=\"ascii\",errors=\"backslashreplace\"))\n",
    "print(txt.encode(encoding=\"ascii\",errors=\"ignore\"))\n",
    "print(txt.encode(encoding=\"ascii\",errors=\"namereplace\"))\n",
    "print(txt.encode(encoding=\"ascii\",errors=\"replace\"))\n",
    "print(txt.encode(encoding=\"ascii\",errors=\"xmlcharrefreplace\"))"
   ]
  },
  {
   "cell_type": "code",
   "execution_count": 15,
   "id": "f34dd6be",
   "metadata": {},
   "outputs": [
    {
     "name": "stdout",
     "output_type": "stream",
     "text": [
      "False\n",
      "True\n",
      "True\n",
      "True\n"
     ]
    }
   ],
   "source": [
    "# 6.String_name.endswith( sub_str,start, end )\n",
    "#      Return True if string ends with the specified suffix, False otherwise\n",
    "#      suffix can also be a tuple of strings to try\n",
    "\n",
    "a = 'this is python programme'\n",
    "print(a.endswith('is'))\n",
    "print(a.endswith('mme'))\n",
    "print(a.endswith('python',0,14))\n",
    "print(a.endswith('is',2,7))"
   ]
  },
  {
   "cell_type": "code",
   "execution_count": 16,
   "id": "d1031adc",
   "metadata": {},
   "outputs": [
    {
     "name": "stdout",
     "output_type": "stream",
     "text": [
      "this    is      python  programme\n",
      "this        is          python      programme\n"
     ]
    }
   ],
   "source": [
    "# 7.String_name.expandtabs(tabsize=8)  \n",
    "#        Return a copy where all tab characters are expanded using spaces\n",
    "#        If tab size is not given, a tab size of 8 characters is assumed by default.\n",
    " \n",
    "a = 'this\\tis\\tpython\\tprogramme' # \\t required\n",
    "print(a.expandtabs())\n",
    "print(a.expandtabs(12))"
   ]
  },
  {
   "cell_type": "code",
   "execution_count": 17,
   "id": "db412e69",
   "metadata": {},
   "outputs": [
    {
     "name": "stdout",
     "output_type": "stream",
     "text": [
      "10\n",
      "7\n",
      "-1\n"
     ]
    }
   ],
   "source": [
    "# 8.String_name.find(sub_str[start, end])\n",
    "#      Return the lowest index in string where substring sub is found.\n",
    "#      Return -1 if the target substring is not found.\n",
    "\n",
    "a = 'hello all good morning'\n",
    "print(a.find('good'))\n",
    "print(a.find('ll',4))\n",
    "print(a.find('god'))"
   ]
  },
  {
   "cell_type": "code",
   "execution_count": 14,
   "id": "cce07284",
   "metadata": {},
   "outputs": [
    {
     "name": "stdout",
     "output_type": "stream",
     "text": [
      "My name is faruk, I'm 29\n",
      "My name is faruk, I'm 29\n",
      "My name is faruk, I'm 29\n"
     ]
    }
   ],
   "source": [
    "# 9.String_name.format(*args,**kwargs)\n",
    "#     Return a formatted version of string, using substitutions from args and kwargs.\n",
    "#     The substitutions are identified by braces ‘{ }’.\n",
    "txt1 = \"My name is {name}, I'm {age}\".format(name = \"faruk\", age = 29)\n",
    "txt2 = \"My name is {0}, I'm {1}\".format(\"faruk\",29)\n",
    "txt3 = \"My name is {}, I'm {}\".format(\"faruk\",29)\n",
    "\n",
    "print(txt1)\n",
    "print(txt2)\n",
    "print(txt3)"
   ]
  },
  {
   "cell_type": "code",
   "execution_count": 25,
   "id": "4dcb9bf4",
   "metadata": {},
   "outputs": [
    {
     "name": "stdout",
     "output_type": "stream",
     "text": [
      "spider's last name is man\n",
      "tony is an iron man and he is 50 years old.\n",
      "steve is a captain america and he is 150 years old.\n"
     ]
    }
   ],
   "source": [
    "# 10.String_name.format_map(mapping)\n",
    "#     Return a formatted version of S, using substitutions from mapping.\n",
    "#     The substitutions are identified by braces ‘{ }’.\n",
    "\n",
    "a = {'x':'spider', 'y':'man'}\n",
    "print(\"{x}'s last name is {y}\".format_map(a))\n",
    "\n",
    "profession = { 'name':['tony', 'steve'],\n",
    "               'profession':['iron man', 'captain america'],\n",
    "               'age':[50, 150] }\n",
    "\n",
    "print('{name[0]} is an {profession[0]} and he'\n",
    "      ' is {age[0]} years old.'.format_map(profession))       \n",
    "print('{name[1]} is a {profession[1]} and he'\n",
    "      ' is {age[1]} years old.'.format_map(profession))"
   ]
  },
  {
   "cell_type": "code",
   "execution_count": 19,
   "id": "419ed49b",
   "metadata": {},
   "outputs": [
    {
     "name": "stdout",
     "output_type": "stream",
     "text": [
      "1\n",
      "8\n"
     ]
    }
   ],
   "source": [
    "# 11.String_name.index( sub_str,start, end )\n",
    "#     Return the lowest index in S where substring sub is found, such that sub is contained within string[start:end].\n",
    "#     Raises ValueError when the substring is not found\n",
    "\n",
    "txt = \"Hello, welcome to my world.\"\n",
    "x = txt.index(\"e\")\n",
    "x1 = txt.index(\"e\", 5, 10)\n",
    "\n",
    "print(x)\n",
    "print(x1)"
   ]
  },
  {
   "cell_type": "code",
   "execution_count": 11,
   "id": "6dc65c25",
   "metadata": {},
   "outputs": [
    {
     "name": "stdout",
     "output_type": "stream",
     "text": [
      "FARUKmulani420\n",
      "True\n"
     ]
    }
   ],
   "source": [
    "# 12.String_name.isalnum()\n",
    "#     Return True if the string is an alpha-numeric string, False otherwise.\n",
    "name = \"FARUKmulani\"\n",
    "str1 = name.isalnum()\n",
    "print(name)\n",
    "print(str1)"
   ]
  },
  {
   "cell_type": "code",
   "execution_count": 10,
   "id": "5cf11dc7",
   "metadata": {},
   "outputs": [
    {
     "name": "stdout",
     "output_type": "stream",
     "text": [
      "FARUKmulani\n",
      "True\n"
     ]
    }
   ],
   "source": [
    "# 13.String_name.isalpha()\n",
    "#     Return True if the string is a decimal string, False otherwise\n",
    "name = \"FARUKmulani\"\n",
    "str1 = name.isalpha()\n",
    "print(name)\n",
    "print(str1)"
   ]
  },
  {
   "cell_type": "code",
   "execution_count": 20,
   "id": "436be1d8",
   "metadata": {},
   "outputs": [
    {
     "name": "stdout",
     "output_type": "stream",
     "text": [
      "True\n"
     ]
    }
   ],
   "source": [
    "# 14.String_name.isascii()\n",
    "#     Return True if all characters in the string are ASCII, False otherwise.\n",
    "#     ASCII characters have code points in the range U+0000- U+007F.\n",
    "#     Empty string is ASCII too.\n",
    "\n",
    "txt = \"Company123\"\n",
    "x = txt.isascii()\n",
    "print(x)"
   ]
  },
  {
   "cell_type": "code",
   "execution_count": 21,
   "id": "6d97733f",
   "metadata": {},
   "outputs": [
    {
     "name": "stdout",
     "output_type": "stream",
     "text": [
      "True\n"
     ]
    }
   ],
   "source": [
    "# 15.String_name.isdecimal()\n",
    "#     Return True if all the characters are decimals (0-9).\n",
    "\n",
    "txt = \"1234\"\n",
    "x = txt.isdecimal()\n",
    "print(x)"
   ]
  },
  {
   "cell_type": "code",
   "execution_count": 9,
   "id": "bb784655",
   "metadata": {},
   "outputs": [
    {
     "name": "stdout",
     "output_type": "stream",
     "text": [
      "342343\n",
      "True\n"
     ]
    }
   ],
   "source": [
    "# 16.String_name.isdigit()\n",
    "#     Return True returns True if all the characters are digits, otherwise False.\n",
    "name = \"342343\"\n",
    "str1 = name.isdigit()\n",
    "print(name)\n",
    "print(str1)"
   ]
  },
  {
   "cell_type": "code",
   "execution_count": 22,
   "id": "86fb8074",
   "metadata": {},
   "outputs": [
    {
     "name": "stdout",
     "output_type": "stream",
     "text": [
      "True\n",
      "True\n",
      "False\n",
      "False\n"
     ]
    }
   ],
   "source": [
    "# 17.String_name.isidentifier()\n",
    "#    Return True if the string is a valid Python identifier, False otherwise.\n",
    "\n",
    "# A string is considered a valid identifier if it only contains alphanumeric letters (a-z) and (0-9), or underscores (_). \n",
    "# A valid identifier cannot start with a number, or contain any spaces.\n",
    "\n",
    "a = \"MyFolder\"\n",
    "b = \"Demo002\"\n",
    "c = \"2bring\"\n",
    "d = \"my demo\"\n",
    "\n",
    "print(a.isidentifier())\n",
    "print(b.isidentifier())\n",
    "print(c.isidentifier())\n",
    "print(d.isidentifier())"
   ]
  },
  {
   "cell_type": "code",
   "execution_count": 15,
   "id": "c749f667",
   "metadata": {},
   "outputs": [
    {
     "name": "stdout",
     "output_type": "stream",
     "text": [
      "python\n",
      "True\n"
     ]
    }
   ],
   "source": [
    "# 18.String_name.islower()\n",
    "#    Return True if the string is a lowercase string, False otherwise\n",
    "#    There should at least one cased character in the string.\n",
    "name = \"python\"\n",
    "str1 = name.islower()\n",
    "print(name)\n",
    "print(str1)"
   ]
  },
  {
   "cell_type": "code",
   "execution_count": 23,
   "id": "38342536",
   "metadata": {},
   "outputs": [
    {
     "name": "stdout",
     "output_type": "stream",
     "text": [
      "True\n",
      "True\n",
      "False\n",
      "False\n",
      "False\n"
     ]
    }
   ],
   "source": [
    "# 19.String_name.isnumeric()\n",
    "# Return True if the string is a numeric string, False otherwise. \n",
    "# string must not be empty, There should be at least one character.\n",
    "# \"-1\" and \"1.5\" are NOT considered numeric values, \n",
    "# because all the characters in the string must be numeric, and the - and the . are not.\n",
    "\n",
    "a = \"\\u0030\" #unicode for 0\n",
    "b = \"\\u00B2\" #unicode for &sup2;\n",
    "c = \"10km2\"\n",
    "d = \"-1\"\n",
    "e = \"1.5\"\n",
    "\n",
    "print(a.isnumeric())\n",
    "print(b.isnumeric())\n",
    "print(c.isnumeric())\n",
    "print(d.isnumeric())\n",
    "print(e.isnumeric())"
   ]
  },
  {
   "cell_type": "code",
   "execution_count": 24,
   "id": "0e6337b6",
   "metadata": {},
   "outputs": [
    {
     "name": "stdout",
     "output_type": "stream",
     "text": [
      "False\n"
     ]
    }
   ],
   "source": [
    "# 20.String_name.isprintable()\n",
    "# Return True if the string is printable, False otherwise.\n",
    "\n",
    "txt = \"Hello!\\nAre you #1?\"\n",
    "x = txt.isprintable()\n",
    "print(x)"
   ]
  },
  {
   "cell_type": "code",
   "execution_count": 8,
   "id": "c60959b5",
   "metadata": {},
   "outputs": [
    {
     "name": "stdout",
     "output_type": "stream",
     "text": [
      "  \n",
      "True\n"
     ]
    }
   ],
   "source": [
    "# 21.String_name.isspace()\n",
    "# Return True if the string is a whitespace string, False otherwise.\n",
    "# A string is whitespace if all characters in the string are whitespace and there is at least one character in the string.\n",
    "name = \"  \"\n",
    "str1 = name.isspace()\n",
    "print(name)\n",
    "print(str1)"
   ]
  },
  {
   "cell_type": "code",
   "execution_count": 17,
   "id": "b927c26a",
   "metadata": {},
   "outputs": [
    {
     "name": "stdout",
     "output_type": "stream",
     "text": [
      "Faruk Mulani Notes\n",
      "True\n"
     ]
    }
   ],
   "source": [
    "# 22.String_name.istitle()\n",
    "# Return True if the string is a title-cased string, False otherwise.\n",
    "name = \"Faruk Mulani Notes\"\n",
    "str1 = name.istitle()\n",
    "print(name)\n",
    "print(str1)"
   ]
  },
  {
   "cell_type": "code",
   "execution_count": 14,
   "id": "f619e2c2",
   "metadata": {},
   "outputs": [
    {
     "name": "stdout",
     "output_type": "stream",
     "text": [
      "FRK\n",
      "True\n"
     ]
    }
   ],
   "source": [
    "# 23.String_name.isupper()\n",
    "# Return True if the string is an uppercase string, False otherwise.\n",
    "# There is at least one cased character in the string.\n",
    "name = \"FRK\"\n",
    "str1 = name.isupper()\n",
    "print(name)\n",
    "print(str1)"
   ]
  },
  {
   "cell_type": "code",
   "execution_count": 4,
   "id": "656e3d02",
   "metadata": {},
   "outputs": [
    {
     "name": "stdout",
     "output_type": "stream",
     "text": [
      "('Hello', 'How', 'Are', 'You')\n",
      "Hello_How_Are_You\n"
     ]
    }
   ],
   "source": [
    "# 24.String_name.join( iterable )\n",
    "# Concatenate any number of strings\n",
    "name = ('Hello', 'How', 'Are', 'You')\n",
    "str1 = \"_\".join(name)\n",
    "print(name)\n",
    "print(str1)"
   ]
  },
  {
   "cell_type": "code",
   "execution_count": 7,
   "id": "daef7112",
   "metadata": {},
   "outputs": [
    {
     "data": {
      "text/plain": [
       "'hello, world!'"
      ]
     },
     "execution_count": 7,
     "metadata": {},
     "output_type": "execute_result"
    }
   ],
   "source": [
    "# 26.String_name.ljust( width, fillchar=' ' )\n",
    "# Return a left-justified string of length width.\n",
    "# Padding is done using the specified fill character (default is a space)\n",
    "\n",
    "my_str = \"hello, world!\" \n",
    "my_str.ljust(20) \n",
    "my_str"
   ]
  },
  {
   "cell_type": "code",
   "execution_count": 19,
   "id": "c6dc09b1",
   "metadata": {},
   "outputs": [
    {
     "name": "stdout",
     "output_type": "stream",
     "text": [
      "FARUKMULANI\n",
      "farukmulani\n"
     ]
    }
   ],
   "source": [
    "# 27.String_name.lower()\n",
    "# Return a copy of the string converted to lowercase.\n",
    "name = \"FARUKMULANI\"\n",
    "str1 = name.lower()\n",
    "print(name)\n",
    "print(str1)"
   ]
  },
  {
   "cell_type": "code",
   "execution_count": 5,
   "id": "f5c70781",
   "metadata": {},
   "outputs": [
    {
     "name": "stdout",
     "output_type": "stream",
     "text": [
      "   farukmulani\n",
      "farukmulani\n"
     ]
    }
   ],
   "source": [
    "# 28.String_name.lstrip(chars=None)\n",
    "# Return a copy of the string with leading whitespace removed\n",
    "name = \"   farukmulani\"\n",
    "str1 = name.lstrip()\n",
    "print(name)\n",
    "print(str1)"
   ]
  },
  {
   "cell_type": "code",
   "execution_count": 32,
   "id": "9bb07a22",
   "metadata": {},
   "outputs": [
    {
     "name": "stdout",
     "output_type": "stream",
     "text": [
      "Hello Forld!\n",
      "{109: 101, 83: 74, 97: 111, 111: None, 100: None, 110: None, 103: None, 104: None, 116: None}\n",
      "Hell Wrl!\n"
     ]
    }
   ],
   "source": [
    "# 29.String_name.maketrans()\n",
    "# Returns a translation table to be used in transation.\n",
    "\n",
    "txt = \"Hello World!\"\n",
    "mytable = str.maketrans(\"W\", \"F\")\n",
    "print(txt.translate(mytable))\n",
    "\n",
    "x = \"mSa\"\n",
    "y = \"eJo\"\n",
    "z = \"odnght\"\n",
    "print(str.maketrans(x, y, z))\n",
    "mytable = str.maketrans(x, y, z)\n",
    "print(txt.translate(mytable))"
   ]
  },
  {
   "cell_type": "code",
   "execution_count": 34,
   "id": "40c3d74c",
   "metadata": {},
   "outputs": [
    {
     "name": "stdout",
     "output_type": "stream",
     "text": [
      "('I could eat ', 'bananas', ' all day')\n"
     ]
    }
   ],
   "source": [
    "# 30.String_name.partition( sep )\n",
    "# Partition the string into three parts using the given separator.\n",
    "# This will search for the separator in the string. \n",
    "# If the separator is found, returns a 3-tuple containing the part before the separator, \n",
    "# the separator itself, and the part after it.\n",
    "# If the separator is not found, returns a 3-tuple containing the original and two empty strings.\n",
    "\n",
    "txt = \"I could eat bananas all day\"\n",
    "x = txt.partition(\"bananas\")\n",
    "print(x)"
   ]
  },
  {
   "cell_type": "code",
   "execution_count": 2,
   "id": "0c2d0db9",
   "metadata": {},
   "outputs": [
    {
     "name": "stdout",
     "output_type": "stream",
     "text": [
      "farukmulani\n",
      "farukking\n"
     ]
    }
   ],
   "source": [
    "# 31.String_name.replace( old, new, count=-1 )\n",
    "# Return a copy with all occurrences of substring old replaced by new.\n",
    "# The default value is -1 (means replace all occurrences).\n",
    "# If the optional argument count is given, only the first count occurrences are replaced.\n",
    "\n",
    "name = \"farukmulani\"\n",
    "old = \"mulani\"\n",
    "new = \"king\"\n",
    "str1 = name.replace(old, new)\n",
    "print(name)\n",
    "print(str1)"
   ]
  },
  {
   "cell_type": "code",
   "execution_count": 40,
   "id": "8c43175d",
   "metadata": {},
   "outputs": [
    {
     "name": "stdout",
     "output_type": "stream",
     "text": [
      "13\n",
      "8\n",
      "-1\n"
     ]
    }
   ],
   "source": [
    "# 32.String_name.rfind( sub_str,start, end )\n",
    "# Return the highest index in S where substring sub is found, such that sub is contained within string[start:end].\n",
    "# Return -1 if the target substring is not found\n",
    "\n",
    "txt = \"Hello, welcome to my world.\"\n",
    "x = txt.rfind(\"e\")\n",
    "print(x)\n",
    "x1 = txt.rfind(\"e\", 5, 10)\n",
    "print(x1)\n",
    "x2 = txt.rfind(\"z\")\n",
    "print(x2)"
   ]
  },
  {
   "cell_type": "code",
   "execution_count": 37,
   "id": "10fe78f8",
   "metadata": {},
   "outputs": [
    {
     "name": "stdout",
     "output_type": "stream",
     "text": [
      "13\n",
      "8\n"
     ]
    }
   ],
   "source": [
    "# 33.String_name.rindex( sub_str,start,end )\n",
    "# Return the highest index in S where substring sub is found, such that sub is contained within string[start:end].\n",
    "# Raises ValueError when the substring is not found.\n",
    "\n",
    "txt = \"Hello, welcome to my world.\"\n",
    "\n",
    "x = txt.rindex(\"e\")\n",
    "x1 = txt.rindex(\"e\", 5, 10)\n",
    "\n",
    "print(x)\n",
    "print(x1)"
   ]
  },
  {
   "cell_type": "code",
   "execution_count": 41,
   "id": "2ff6e2c7",
   "metadata": {},
   "outputs": [
    {
     "name": "stdout",
     "output_type": "stream",
     "text": [
      "OOOOOOOOOOOOOObanana\n"
     ]
    }
   ],
   "source": [
    "# 34.String_name.rjust( width, fillchar=' ' )\n",
    "# Return a right-justified string of length width.\n",
    "# Padding is done using the specified fill character (default is a space).\n",
    "\n",
    "txt = \"banana\"\n",
    "x = txt.rjust(20, \"O\")\n",
    "print(x)"
   ]
  },
  {
   "cell_type": "code",
   "execution_count": 43,
   "id": "edf38adc",
   "metadata": {},
   "outputs": [
    {
     "name": "stdout",
     "output_type": "stream",
     "text": [
      "('I could eat bananas all day, ', 'bananas', ' are my favorite fruit')\n"
     ]
    }
   ],
   "source": [
    "# 35.String_name.rpartition( sep )\n",
    "# Partition the string into three parts using the given separator.\n",
    "# This will search for the separator in the string, starting at the end. \n",
    "# If the separator is found, returns a 3-tuple containing the part before the separator, \n",
    "# the separator itself, and the part after it.\n",
    "# If the separator is not found, returns a 3-tuple containing two empty strings and the original string\n",
    "\n",
    "txt = \"I could eat bananas all day, bananas are my favorite fruit\"\n",
    "x = txt.rpartition(\"bananas\")\n",
    "print(x)"
   ]
  },
  {
   "cell_type": "code",
   "execution_count": 44,
   "id": "76681bad",
   "metadata": {},
   "outputs": [
    {
     "name": "stdout",
     "output_type": "stream",
     "text": [
      "['apple', 'banana', 'cherry']\n"
     ]
    }
   ],
   "source": [
    "# 36.String_name.rsplit( sep, maxsplit=-1 )\n",
    "# Return a list of the words in the string, using sep as the delimiter strings.\n",
    "# sep:\n",
    "# the delimiter according which to split the string. Default sep is space.\n",
    "# Max splits is -1 meaning unlimited splits.\n",
    "\n",
    "txt = \"apple, banana, cherry\"\n",
    "x = txt.rsplit(\", \")\n",
    "print(x)"
   ]
  },
  {
   "cell_type": "code",
   "execution_count": 6,
   "id": "fe95c3c3",
   "metadata": {},
   "outputs": [
    {
     "name": "stdout",
     "output_type": "stream",
     "text": [
      "farukmulani     \n",
      "farukmulani\n"
     ]
    }
   ],
   "source": [
    "# 37.String_name.rstrip( chars=None )\n",
    "# Return a copy of the string with trailing whitespace removed.\n",
    "name = \"farukmulani     \"\n",
    "str1 = name.rstrip()\n",
    "print(name)\n",
    "print(str1)"
   ]
  },
  {
   "cell_type": "code",
   "execution_count": 3,
   "id": "a32db00b",
   "metadata": {},
   "outputs": [
    {
     "name": "stdout",
     "output_type": "stream",
     "text": [
      "Hello-how-are-you\n",
      "['Hello', 'how', 'are', 'you']\n"
     ]
    }
   ],
   "source": [
    "# 38.String_name.split(sep, maxsplit=-1)\n",
    "# Return a list of the words in the string, using sep as the delimiter string.\n",
    "# sep:\n",
    "# The delimiter according which to split the string. Default sep is space.\n",
    "# Max splits is -1 meaning unlimited splits.\n",
    "name = \"Hello-how-are-you\"\n",
    "str1 = name.split('-')\n",
    "print(name)\n",
    "print(str1)"
   ]
  },
  {
   "cell_type": "code",
   "execution_count": 45,
   "id": "e5060cd5",
   "metadata": {},
   "outputs": [
    {
     "name": "stdout",
     "output_type": "stream",
     "text": [
      "['Thank you for the music\\n', 'Welcome to the jungle']\n"
     ]
    }
   ],
   "source": [
    "# 39.String_name.splitlines( keepends=False )\n",
    "# Return a list of the lines in the string, breaking at line boundaries\n",
    "# Line breaks are not included in the resulting list, unless keepends is given and true.\n",
    "\n",
    "txt = \"Thank you for the music\\nWelcome to the jungle\"\n",
    "x = txt.splitlines(True)\n",
    "print(x)"
   ]
  },
  {
   "cell_type": "code",
   "execution_count": 1,
   "id": "758cf885",
   "metadata": {},
   "outputs": [
    {
     "name": "stdout",
     "output_type": "stream",
     "text": [
      "Hi How are you\n",
      "True\n"
     ]
    }
   ],
   "source": [
    "# 40.String_name. startswith( sub_str,start,end )\n",
    "# Return True if S starts with the specified prefix, False otherwise\n",
    "name = \"Hi How are you\"\n",
    "str1 = name.startswith('Hi')\n",
    "print(name)\n",
    "print(str1)"
   ]
  },
  {
   "cell_type": "code",
   "execution_count": 7,
   "id": "8c10f5c7",
   "metadata": {},
   "outputs": [
    {
     "name": "stdout",
     "output_type": "stream",
     "text": [
      "   farukmulani  \n",
      "farukmulani\n"
     ]
    }
   ],
   "source": [
    "# 41.String_name.strip( chars=None )\n",
    "# Return a copy of the string with leading and trailing whitespace remove.\n",
    "name = \"     farukmulani    \"\n",
    "str1 = name.strip()\n",
    "print(name)\n",
    "print(str1)"
   ]
  },
  {
   "cell_type": "code",
   "execution_count": 20,
   "id": "badf1e09",
   "metadata": {},
   "outputs": [
    {
     "name": "stdout",
     "output_type": "stream",
     "text": [
      "farukMULANI\n",
      "FARUKmulani\n"
     ]
    }
   ],
   "source": [
    "# 42.String_name.swapcase()\n",
    "# Convert uppercase characters to lowercase and lowercase characters to uppercase.\n",
    "name = \"farukMULANI\"\n",
    "str1 = name.swapcase()\n",
    "print(name)\n",
    "print(str1)"
   ]
  },
  {
   "cell_type": "code",
   "execution_count": 21,
   "id": "c91a0b23",
   "metadata": {},
   "outputs": [
    {
     "name": "stdout",
     "output_type": "stream",
     "text": [
      "hello how are you\n",
      "Hello How Are You\n"
     ]
    }
   ],
   "source": [
    "# 43.String_name.title()\n",
    "# Return a version of the string where each word is titlecased. \n",
    "# More specifically, words start with uppercased characters and all remaining cased characters have lower case.\n",
    "name = \"hello how are you\"\n",
    "str1 = name.title()\n",
    "print(name)\n",
    "print(str1)"
   ]
  },
  {
   "cell_type": "code",
   "execution_count": 53,
   "id": "da6457c3",
   "metadata": {},
   "outputs": [
    {
     "name": "stdout",
     "output_type": "stream",
     "text": [
      "Hello Paruk!\n",
      "G i Joe!\n"
     ]
    }
   ],
   "source": [
    "# 44.String_name. translate( table )\n",
    "# Replace each character in the string using the given translation table.\n",
    "\n",
    "mydict = {70:  80}\n",
    "txt = \"Hello Faruk!\"\n",
    "print(txt.translate(mydict))\n",
    "\n",
    "txt = \"Good night Sam!\"\n",
    "mydict = {109: 101, 83: 74, 97: 111, 111: None, 100: None, 110: None, 103: None, 104: None, 116: None}\n",
    "print(txt.translate(mydict))"
   ]
  },
  {
   "cell_type": "code",
   "execution_count": 18,
   "id": "e40c9077",
   "metadata": {},
   "outputs": [
    {
     "name": "stdout",
     "output_type": "stream",
     "text": [
      "farukmulani\n",
      "FARUKMULANI\n"
     ]
    }
   ],
   "source": [
    "# 45.String_name. upper()\n",
    "# Return a copy of the string converted to uppercase\n",
    "name = \"farukmulani\"\n",
    "str1 = name.upper()\n",
    "print(name)\n",
    "print(str1)"
   ]
  },
  {
   "cell_type": "code",
   "execution_count": 54,
   "id": "0cb9de01",
   "metadata": {},
   "outputs": [
    {
     "name": "stdout",
     "output_type": "stream",
     "text": [
      "00000hello\n",
      "welcome to the jungle\n",
      "000010.000\n"
     ]
    }
   ],
   "source": [
    "# 46.String_name. zfill( width )\n",
    "# Pad a numeric string with zeros on the left, to fill a field of the given width.\n",
    "\n",
    "a = \"hello\"\n",
    "b = \"welcome to the jungle\"\n",
    "c = \"10.000\"\n",
    "\n",
    "print(a.zfill(10))\n",
    "print(b.zfill(10))\n",
    "print(c.zfill(10))"
   ]
  },
  {
   "cell_type": "markdown",
   "id": "4b7792f8",
   "metadata": {},
   "source": [
    "## B.Python Tuple"
   ]
  },
  {
   "cell_type": "code",
   "execution_count": 55,
   "id": "a9d9ad56",
   "metadata": {},
   "outputs": [
    {
     "name": "stdout",
     "output_type": "stream",
     "text": [
      "('pen', 'mobile', 'laptop', 'lamp')\n",
      "<class 'tuple'>\n",
      "(1, 2, 3, 4, 5, 6, 'faruk', 'aiman', 'sudhakar', True)\n",
      "<class 'tuple'>\n",
      "Samsung\n",
      "('Samsung', 'Sony', 'Redmi')\n"
     ]
    }
   ],
   "source": [
    "# Tuple is used to store multiple item in a one variable.immutable\n",
    "a = (\"pen\",\"mobile\",\"laptop\",\"lamp\") #---> homogenous type\n",
    "print(a)\n",
    "print(type(a))\n",
    "\n",
    "n = (1,2,3,4,5,6,\"faruk\",\"aiman\",\"sudhakar\",True) #-----> heterogenous type\n",
    "print(n)\n",
    "print(type(n))\n",
    "\n",
    "# indexing\n",
    "#Support +ve and -ve indexing\n",
    "# syntax: tuple['index']\n",
    "mobile = (\"Nokia\",\"Samsung\",\"Sony\",\"Redmi\",\"Motorola\")\n",
    "x = mobile[1]\n",
    "print(x)\n",
    "\n",
    "# sclicing\n",
    "# syntax: tuple[start:stop:step]\n",
    "y = mobile[1:4:1]\n",
    "print(y)"
   ]
  },
  {
   "cell_type": "code",
   "execution_count": 56,
   "id": "87d1cde7",
   "metadata": {},
   "outputs": [
    {
     "name": "stdout",
     "output_type": "stream",
     "text": [
      "['__add__', '__class__', '__class_getitem__', '__contains__', '__delattr__', '__dir__', '__doc__', '__eq__', '__format__', '__ge__', '__getattribute__', '__getitem__', '__getnewargs__', '__gt__', '__hash__', '__init__', '__init_subclass__', '__iter__', '__le__', '__len__', '__lt__', '__mul__', '__ne__', '__new__', '__reduce__', '__reduce_ex__', '__repr__', '__rmul__', '__setattr__', '__sizeof__', '__str__', '__subclasshook__', 'count', 'index']"
     ]
    }
   ],
   "source": [
    "print(dir(tuple),end=\"\")"
   ]
  },
  {
   "cell_type": "code",
   "execution_count": 57,
   "id": "3aa0a9d0",
   "metadata": {},
   "outputs": [],
   "source": [
    "tuple_methods = ['count', 'index']"
   ]
  },
  {
   "cell_type": "code",
   "execution_count": 58,
   "id": "1db72d82",
   "metadata": {},
   "outputs": [
    {
     "name": "stdout",
     "output_type": "stream",
     "text": [
      "4\n"
     ]
    }
   ],
   "source": [
    "# 1. count : Return number of occurrences of value.\n",
    "# tuple_var.count(value)\n",
    "tup_2 = (22,55,66,77,88,88,66,44,88,88)\n",
    "x = tup_2.count(88)\n",
    "print(x)"
   ]
  },
  {
   "cell_type": "code",
   "execution_count": 59,
   "id": "41a1ad22",
   "metadata": {},
   "outputs": [
    {
     "data": {
      "text/plain": [
       "2"
      ]
     },
     "execution_count": 59,
     "metadata": {},
     "output_type": "execute_result"
    }
   ],
   "source": [
    "# 2. index : Return first index of value.Raises ValueError if the value is not present.\n",
    "# tuple_var.index( value, start=0, stop=2.147x109)\n",
    "mobile = (\"Nokia\",\"Samsung\",\"Sony\",\"Redmi\",\"Motorola\")\n",
    "mobile.index(\"Sony\")\n",
    "# mobile.index(\"iphone\")    # ---> check for value error"
   ]
  },
  {
   "cell_type": "code",
   "execution_count": null,
   "id": "951b9676",
   "metadata": {},
   "outputs": [],
   "source": []
  }
 ],
 "metadata": {
  "kernelspec": {
   "display_name": "Python 3 (ipykernel)",
   "language": "python",
   "name": "python3"
  },
  "language_info": {
   "codemirror_mode": {
    "name": "ipython",
    "version": 3
   },
   "file_extension": ".py",
   "mimetype": "text/x-python",
   "name": "python",
   "nbconvert_exporter": "python",
   "pygments_lexer": "ipython3",
   "version": "3.9.13"
  },
  "varInspector": {
   "cols": {
    "lenName": 16,
    "lenType": 16,
    "lenVar": 40
   },
   "kernels_config": {
    "python": {
     "delete_cmd_postfix": "",
     "delete_cmd_prefix": "del ",
     "library": "var_list.py",
     "varRefreshCmd": "print(var_dic_list())"
    },
    "r": {
     "delete_cmd_postfix": ") ",
     "delete_cmd_prefix": "rm(",
     "library": "var_list.r",
     "varRefreshCmd": "cat(var_dic_list()) "
    }
   },
   "types_to_exclude": [
    "module",
    "function",
    "builtin_function_or_method",
    "instance",
    "_Feature"
   ],
   "window_display": false
  }
 },
 "nbformat": 4,
 "nbformat_minor": 5
}
