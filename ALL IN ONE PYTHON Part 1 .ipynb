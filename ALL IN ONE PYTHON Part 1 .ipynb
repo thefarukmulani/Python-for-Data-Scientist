{
 "cells": [
  {
   "cell_type": "markdown",
   "id": "83162dd2",
   "metadata": {},
   "source": [
    "# Part 1 : Python Basics"
   ]
  },
  {
   "cell_type": "markdown",
   "id": "3edbdbf3",
   "metadata": {},
   "source": [
    "## What is Python ?"
   ]
  },
  {
   "cell_type": "code",
   "execution_count": null,
   "id": "45733b22",
   "metadata": {},
   "outputs": [],
   "source": [
    "Python is a clear and powerful object-oriented programming language, comparable to Perl, Ruby, or Java. \n",
    "Python is a programming language that combines features of C and Java. "
   ]
  },
  {
   "cell_type": "code",
   "execution_count": null,
   "id": "17a6a190",
   "metadata": {},
   "outputs": [],
   "source": [
    "Features:-\n",
    "Easy to Learn\n",
    "High Level Language\n",
    "Interpreted Language\n",
    "Platform Independent \n",
    "Procedure and Object Oriented\n",
    "Huge Library\n",
    "Scalable\n",
    "\n",
    "Application for Python:-\n",
    "Web Application - Django, Pyramid, Flask, Bottle\n",
    "Desktop GUI Application – Tkinter\n",
    "Console Based Application\n",
    "Games and 3D Application\n",
    "Mobile Application\n",
    "Scientific and Numeric\n",
    "Data Science\n",
    "Machine Learning - scikit-learn and TensorFlow\n",
    "Data Analysis - Matplotlib, Seaborn\n",
    "Business Application"
   ]
  },
  {
   "cell_type": "markdown",
   "id": "f539065f",
   "metadata": {},
   "source": [
    "## Identifier"
   ]
  },
  {
   "cell_type": "code",
   "execution_count": null,
   "id": "53a13fbe",
   "metadata": {},
   "outputs": [],
   "source": [
    "An identifier is a name having a few letters, numbers and special characters _ (underscore). \n",
    "It should always start with a non-numeric character. \n",
    "It is used to identify a variable, function, symbolic constant, class etc. \n",
    "Ex : - \n",
    "\tX2\n",
    "\tPI\n",
    "\tSigma\n",
    "\tmatadd\n",
    "\tfull_name\n",
    "Python is case sensitive programming language.\n",
    "\td is not equal to D\n",
    "\tt is not equal to T\n",
    "\tFARUK is not equal to faruk\n",
    "\tFaruK is not eqaul to Faruk"
   ]
  },
  {
   "cell_type": "markdown",
   "id": "c862c94c",
   "metadata": {},
   "source": [
    "## Keywords or Reserved Words:-"
   ]
  },
  {
   "cell_type": "code",
   "execution_count": 1,
   "id": "95592269",
   "metadata": {},
   "outputs": [
    {
     "name": "stdout",
     "output_type": "stream",
     "text": [
      "['False', 'None', 'True', '__peg_parser__', 'and', 'as', 'assert', 'async', 'await', 'break', 'class', 'continue', 'def', 'del', 'elif', 'else', 'except', 'finally', 'for', 'from', 'global', 'if', 'import', 'in', 'is', 'lambda', 'nonlocal', 'not', 'or', 'pass', 'raise', 'return', 'try', 'while', 'with', 'yield']\n"
     ]
    }
   ],
   "source": [
    "# Python language uses the following keywords which are not available to users to use them as identifiers.\n",
    "import keyword\n",
    "print(keyword.kwlist)"
   ]
  },
  {
   "cell_type": "markdown",
   "id": "a7dd6205",
   "metadata": {},
   "source": [
    "## Variable"
   ]
  },
  {
   "cell_type": "code",
   "execution_count": null,
   "id": "c8b1bed6",
   "metadata": {},
   "outputs": [],
   "source": [
    "In Python, a variable is considered as tag that is tied to some value. Python considers value as objects. \n",
    "e.g. a = 10          Since value 10 becomes unreferenced object, \n",
    "                     it is removed by garbage collector.\n",
    "     a = 20                \n",
    "\n",
    "Rules:-\n",
    "Every variable name should start with alphabets or underscore (_).\n",
    "No spaces are allowed in variable declaration.\n",
    "Except underscore ( _ ) no other special symbol are allowed in the middle of the variable declaration\n",
    "A variable is written with a combination of letters, numbers and special characters _ (underscore)\n",
    "No Reserved keyword"
   ]
  },
  {
   "cell_type": "markdown",
   "id": "0c1e7b80",
   "metadata": {},
   "source": [
    "## Operators"
   ]
  },
  {
   "cell_type": "code",
   "execution_count": null,
   "id": "a5063653",
   "metadata": {},
   "outputs": [],
   "source": [
    "An operator is a symbol that performs an operation.\n",
    "\n",
    "Types of Operator:-\n",
    "Arithmetic Operators                           \n",
    "Relational Operators / Comparison Operators    \n",
    "Logical Operators                             \n",
    "Assignment Operators                                            \n",
    "Bitwise Operators                              \n",
    "Membership Operators                          \n",
    "Identity Operators                             "
   ]
  },
  {
   "cell_type": "code",
   "execution_count": 2,
   "id": "fec3df72",
   "metadata": {},
   "outputs": [
    {
     "name": "stdout",
     "output_type": "stream",
     "text": [
      "6\n",
      "2\n",
      "18\n",
      "2.0\n",
      "<class 'float'>\n",
      "1\n",
      "25\n",
      "2\n",
      "-3\n"
     ]
    }
   ],
   "source": [
    "# Arithmetic Operators:-\n",
    "\n",
    "# Addition\n",
    "# print(4+2)\n",
    "a = 4\n",
    "b = 2\n",
    "total = a + b\n",
    "print(total)\n",
    "\n",
    "# Subtraction\n",
    "#print(8-2)\n",
    "a = 4\n",
    "b = 2\n",
    "total = a - b\n",
    "print(total)\n",
    "\n",
    "# Multiplication\n",
    "#print(4*2)\n",
    "a = 6\n",
    "b = 3\n",
    "value = a * b\n",
    "print(value)\n",
    "\n",
    "# Divison\n",
    "#print(4/2)\n",
    "a = 4\n",
    "b = 2\n",
    "value = a / b\n",
    "print(value)\n",
    "print(type(value))\n",
    "\n",
    "# Modulus\n",
    "#print(5%2)\n",
    "a = 5\n",
    "b = 2\n",
    "value = a % b\n",
    "print(value) \n",
    "\n",
    "# Exponent\n",
    "#print(5**2)\n",
    "a = 5\n",
    "b = 2\n",
    "value = a**b\n",
    "print(value)\n",
    "\n",
    "# Floor Division Positive\n",
    "#print(5//2)\n",
    "a = 5\n",
    "b = 2\n",
    "value = a//b\n",
    "print(value)\n",
    "\n",
    "# Floor Division Negative\n",
    "#print(-5//2)\n",
    "a = -5\n",
    "b = 2\n",
    "value = a//b\n",
    "print(value)"
   ]
  },
  {
   "cell_type": "code",
   "execution_count": 3,
   "id": "63c8de06",
   "metadata": {},
   "outputs": [
    {
     "name": "stdout",
     "output_type": "stream",
     "text": [
      "False\n",
      "True\n",
      "False\n",
      "True\n",
      "False\n",
      "True\n"
     ]
    }
   ],
   "source": [
    "# Relational Operators / Comparison Operators:- \n",
    "\n",
    "#print(5<2)\n",
    "a = 5\n",
    "b = 2\n",
    "value = a < b\n",
    "print(value)\n",
    "\n",
    "#print(5>2)\n",
    "a = 5\n",
    "b = 2\n",
    "value = a > b\n",
    "print(value)\n",
    "\n",
    "#print(5<=2)\n",
    "a = 5\n",
    "b = 2\n",
    "value = a <= b\n",
    "print(value)\n",
    "\n",
    "#print(5>=2)\n",
    "a = 5\n",
    "b = 2\n",
    "value = a >= b\n",
    "print(value)\n",
    "\n",
    "#print(5==2)\n",
    "a = 5\n",
    "b = 2\n",
    "value = a == b\n",
    "print(value)\n",
    "\n",
    "#print(5!=2)\n",
    "a = 5\n",
    "b = 2\n",
    "value = a != b\n",
    "print(value)"
   ]
  },
  {
   "cell_type": "code",
   "execution_count": 4,
   "id": "4bb34fc4",
   "metadata": {},
   "outputs": [
    {
     "name": "stdout",
     "output_type": "stream",
     "text": [
      "******* Logical and *******\n",
      "True\n",
      "False\n",
      "False\n",
      "False\n",
      "3\n",
      "200\n",
      "False\n",
      "False\n",
      "******* Logical or *******\n",
      "True\n",
      "True\n",
      "True\n",
      "False\n",
      "True\n",
      "True\n",
      "3\n",
      "3\n",
      "******* Logical not *******\n",
      "True\n",
      "False\n"
     ]
    }
   ],
   "source": [
    "# Logical Operators-                             \n",
    "#Logical and\n",
    "a = 5\n",
    "b = 2\n",
    "c = 3\n",
    "d = 200\n",
    "\n",
    "print(\"******* Logical and *******\")\n",
    "print(a>b and a>c)\n",
    "print(a>b and a<c)\n",
    "print(a<b and a>c)\n",
    "print(a<b and a<c)\n",
    "print(a>b and c)\n",
    "print(a>b and c and d)\n",
    "print(a<b and c)\n",
    "print(a<b and c and d)\n",
    "\n",
    "#Logical or\n",
    "print(\"******* Logical or *******\")\n",
    "print(a>b or a>c)\n",
    "print(a>b or a<c)\n",
    "print(a<b or a>c)\n",
    "print(a<b or a<c)\n",
    "print(a>b or c)\n",
    "print(a>b or c or d)\n",
    "print(a<b or c)\n",
    "print(a<b or c or d)\n",
    "\n",
    "#Logical not\n",
    "print(\"******* Logical not *******\")\n",
    "print(not(a<b))\n",
    "print(not(a>b))"
   ]
  },
  {
   "cell_type": "code",
   "execution_count": 5,
   "id": "80dc0b18",
   "metadata": {},
   "outputs": [
    {
     "name": "stdout",
     "output_type": "stream",
     "text": [
      "30\n",
      "25\n",
      "15\n",
      "150\n",
      "15.0\n",
      "5.0\n",
      "25.0\n",
      "2.0\n"
     ]
    }
   ],
   "source": [
    "# Assignment operators\n",
    "a = 10\n",
    "b = 20\n",
    "m = 15\n",
    "\n",
    "y = a + b\n",
    "print(y)\n",
    "\n",
    "m+=10\n",
    "print(m)\n",
    "\n",
    "m-=10\n",
    "print(m)\n",
    "\n",
    "m*=10\n",
    "print(m)\n",
    "\n",
    "m/=10\n",
    "print(m)\n",
    "\n",
    "m%=10\n",
    "print(m)\n",
    "\n",
    "m**=2\n",
    "print(m)\n",
    "\n",
    "m//=10\n",
    "print(m)\n",
    "                                     \n"
   ]
  },
  {
   "cell_type": "code",
   "execution_count": 6,
   "id": "0cc4e281",
   "metadata": {},
   "outputs": [
    {
     "name": "stdout",
     "output_type": "stream",
     "text": [
      "~a =  -11\n",
      "a&b =  10\n",
      "a|b =  15\n",
      "a^b =  5\n",
      "a<<2 =  40\n",
      "a>>2 =  2\n"
     ]
    }
   ],
   "source": [
    "# Bitwise Operators                              \n",
    "a = 10  #0000 1010\n",
    "b = 15  #0000 1111\n",
    "\n",
    "print('~a = ', ~a)\n",
    "print('a&b = ', a&b)\n",
    "print('a|b = ', a|b)\n",
    "print('a^b = ', a^b)\n",
    "print('a<<2 = ', a<<2)\n",
    "print('a>>2 = ', a>>2)"
   ]
  },
  {
   "cell_type": "code",
   "execution_count": 7,
   "id": "ea21043d",
   "metadata": {},
   "outputs": [
    {
     "name": "stdout",
     "output_type": "stream",
     "text": [
      "True\n",
      "False\n",
      "False\n",
      "False\n",
      "True\n",
      "True\n"
     ]
    }
   ],
   "source": [
    "# Membership Operators                          \n",
    "# in\n",
    "st1 = \"Welcome to dubai Habibi\"\n",
    "print(\"to\" in st1)\n",
    "\n",
    "st2 = \"Welcome to dubai Habibi\"\n",
    "print(\"top\" in st2)\n",
    "\n",
    "st3 = \"Welcome to dubai Habibi\"\n",
    "print(\"srk\" in st3)\n",
    "\n",
    "# not in\n",
    "\n",
    "print(\"to\" not in st1)\n",
    "\n",
    "print(\"top\" not in st2)\n",
    "\n",
    "print(\"srk\" not in st3)\n"
   ]
  },
  {
   "cell_type": "code",
   "execution_count": 8,
   "id": "ccb22419",
   "metadata": {},
   "outputs": [
    {
     "name": "stdout",
     "output_type": "stream",
     "text": [
      "True\n",
      "False\n",
      "False\n",
      "True\n"
     ]
    }
   ],
   "source": [
    "# Identity Operators\n",
    "# is\n",
    "a = 10\n",
    "b = 10\n",
    "print(a is b)\n",
    "\n",
    "a = 10\n",
    "b = '10'\n",
    "print(a is b)\n",
    "\n",
    "# is not\n",
    "a = 10\n",
    "b = 10\n",
    "print(a is not b)\n",
    "\n",
    "a = 10\n",
    "b = '10'\n",
    "print(a is not b)"
   ]
  },
  {
   "cell_type": "markdown",
   "id": "f00a8d75",
   "metadata": {},
   "source": [
    "### Operator Precedence and Associativity"
   ]
  },
  {
   "cell_type": "code",
   "execution_count": null,
   "id": "092bb41a",
   "metadata": {},
   "outputs": [],
   "source": [
    "The computer scans an expression which contains the operators from left to right and performs only one operation at a time. \n",
    "The expression will be scanned many times to produce the result. \n",
    "The order in which various operations are performed is known as hierarchy of operations or operator precedence. \n",
    "Some of the operators of the same level of precedence are evaluated from left to right or right to left. \n",
    "This is referred to associativity.\n",
    "\n",
    "Sequence of operations:-\n",
    "    \n",
    "Parentheses                                ()\n",
    "Exponentiation                             **\n",
    "Unary Plus, Unary Minus, Bitwise Not       +, -, ~\n",
    "Multiplication                             *\n",
    "Division, Floor Division, Modulus          /, //, %\n",
    "Addition                                   +\n",
    "Subtraction                                -\n",
    "Bitwise Left Shift, Bitwise Right Shift    <<, >>\n",
    "Bitwise AND                                &\n",
    "Bitwise XOR                                ^\n",
    "Relational Operators                       >, >=, <, <=, ==, !=\n",
    "Assignment Operators                       =, %=, /=, //=, -=, +=, *=, **=\n",
    "Identity Operators                         is, is not\n",
    "Membership Operators                       in, not in\n",
    "Logical NOT                                not\n",
    "Logical OR                                 or\n",
    "Logical AND                                and"
   ]
  },
  {
   "cell_type": "code",
   "execution_count": 9,
   "id": "1be5c71a",
   "metadata": {},
   "outputs": [
    {
     "data": {
      "text/plain": [
       "13"
      ]
     },
     "execution_count": 9,
     "metadata": {},
     "output_type": "execute_result"
    }
   ],
   "source": [
    "# ex.\n",
    "value = (1+1)*2**4//3+4-1  #Parentheses\n",
    "        #2*2**4//3+4-1     #Exponentiation\n",
    "        #2*16//3+4-1       #Multiplication\n",
    "        #32//3+4-1         #Division, Floor Division, Modulus\n",
    "        #10+4-1            #Addition \n",
    "        #14-1              #Subtraction\n",
    "        #13\n",
    "value        "
   ]
  },
  {
   "cell_type": "markdown",
   "id": "fc4ed16c",
   "metadata": {},
   "source": [
    "## Datatype"
   ]
  },
  {
   "cell_type": "code",
   "execution_count": null,
   "id": "f63e99da",
   "metadata": {},
   "outputs": [],
   "source": [
    "Datatype represents the type of data stored into a variable or memory.\n",
    "\n",
    "Type of Data type :-\n",
    "Built-in Data type-\n",
    "1.None Type\n",
    "2.Numeric Types \n",
    "3.Sequences Types \n",
    "4.Sets Types \n",
    "5.Mappings Types \n",
    "\n",
    "User Defined Data type :-\n",
    "1.Array\n",
    "2.Class\n",
    "3.Module"
   ]
  },
  {
   "cell_type": "markdown",
   "id": "0bf1dc56",
   "metadata": {},
   "source": [
    "### Built-in Datatype"
   ]
  },
  {
   "cell_type": "markdown",
   "id": "c5f0c940",
   "metadata": {},
   "source": [
    "### 1.None Type"
   ]
  },
  {
   "cell_type": "code",
   "execution_count": null,
   "id": "64555e06",
   "metadata": {},
   "outputs": [],
   "source": [
    "None datatype represents an object that doesn’t contain any value."
   ]
  },
  {
   "cell_type": "markdown",
   "id": "46a3bdba",
   "metadata": {},
   "source": [
    "### 2.Numeric Type / Number"
   ]
  },
  {
   "cell_type": "code",
   "execution_count": null,
   "id": "b5c28b29",
   "metadata": {},
   "outputs": [],
   "source": [
    "Following are the Numeric Data type:-\n",
    "a.Int\n",
    "b.Float\n",
    "c.Complex  "
   ]
  },
  {
   "cell_type": "markdown",
   "id": "62afe88b",
   "metadata": {},
   "source": [
    "#### a.Int"
   ]
  },
  {
   "cell_type": "code",
   "execution_count": null,
   "id": "6721f1d1",
   "metadata": {},
   "outputs": [],
   "source": [
    "Int – The int datatype represents an integer number. An integer number without any decimal point or fraction part. \n",
    "In Python, It is possible to store very large integer number as there is no limit for the size of an int datatype.\n",
    "Ex:- \n",
    "20, 10, -50, -1002\n",
    "y = 10\n",
    "pin_code = 564512"
   ]
  },
  {
   "cell_type": "markdown",
   "id": "275970ac",
   "metadata": {},
   "source": [
    "#### b.Float"
   ]
  },
  {
   "cell_type": "code",
   "execution_count": null,
   "id": "9d70761e",
   "metadata": {},
   "outputs": [],
   "source": [
    "Float – The float data type represents floating point numbers. \n",
    "A floating point number is a number that contains a decimal point.\n",
    "Ex:- \n",
    "25.56, 10.5, -45.69, -0.8\n",
    "price = 25.56\n",
    "run_rate = -0.8\n",
    "value = 5.1e5"
   ]
  },
  {
   "cell_type": "markdown",
   "id": "a2525487",
   "metadata": {},
   "source": [
    "#### c.Complex"
   ]
  },
  {
   "cell_type": "code",
   "execution_count": null,
   "id": "0976c4d2",
   "metadata": {},
   "outputs": [],
   "source": [
    "Complex – A complex number is a number that is written in the form of a + bj or a + bJ. Where,\n",
    "a = Real Part of the number\n",
    "b = Imaginary part of the number\n",
    "j or J = Square root value of -1\n",
    "a and b may contain integer or float number.\n",
    "Ex:- 5+7j, 0.8+2j\n",
    "com = 5+7j"
   ]
  },
  {
   "cell_type": "markdown",
   "id": "5dad37f2",
   "metadata": {},
   "source": [
    "### 3.Bool type"
   ]
  },
  {
   "cell_type": "code",
   "execution_count": null,
   "id": "0edc0b0c",
   "metadata": {},
   "outputs": [],
   "source": [
    "The bool datatype represents boolean value True or False. \n",
    "Python internally represents True as 1 and False as 0.\n",
    "Ex:- True, False\n",
    "True + True = 2\n",
    "True – False = 1"
   ]
  },
  {
   "cell_type": "markdown",
   "id": "41a3c487",
   "metadata": {},
   "source": [
    "### 4.Sequence Type"
   ]
  },
  {
   "cell_type": "code",
   "execution_count": null,
   "id": "a7e72375",
   "metadata": {},
   "outputs": [],
   "source": [
    "Following are sequence type:- \n",
    "a.String\n",
    "b.List\n",
    "c.Tuple\n",
    "d.Range"
   ]
  },
  {
   "cell_type": "markdown",
   "id": "42c399bc",
   "metadata": {},
   "source": [
    "a.String"
   ]
  },
  {
   "cell_type": "code",
   "execution_count": null,
   "id": "311e11ad",
   "metadata": {},
   "outputs": [],
   "source": [
    "String – String represents group of characters. \n",
    "         Strings are enclosed in double quotes or single quotes. \n",
    "         The str data type represents a String.\n",
    "\n",
    "Ex:- “Hello”, “world”, ‘faruk’"
   ]
  },
  {
   "cell_type": "code",
   "execution_count": 10,
   "id": "915da1d7",
   "metadata": {},
   "outputs": [
    {
     "name": "stdout",
     "output_type": "stream",
     "text": [
      "['__add__', '__class__', '__contains__', '__delattr__', '__dir__', '__doc__', '__eq__', '__format__', '__ge__', '__getattribute__', '__getitem__', '__getnewargs__', '__gt__', '__hash__', '__init__', '__init_subclass__', '__iter__', '__le__', '__len__', '__lt__', '__mod__', '__mul__', '__ne__', '__new__', '__reduce__', '__reduce_ex__', '__repr__', '__rmod__', '__rmul__', '__setattr__', '__sizeof__', '__str__', '__subclasshook__', 'capitalize', 'casefold', 'center', 'count', 'encode', 'endswith', 'expandtabs', 'find', 'format', 'format_map', 'index', 'isalnum', 'isalpha', 'isascii', 'isdecimal', 'isdigit', 'isidentifier', 'islower', 'isnumeric', 'isprintable', 'isspace', 'istitle', 'isupper', 'join', 'ljust', 'lower', 'lstrip', 'maketrans', 'partition', 'removeprefix', 'removesuffix', 'replace', 'rfind', 'rindex', 'rjust', 'rpartition', 'rsplit', 'rstrip', 'split', 'splitlines', 'startswith', 'strip', 'swapcase', 'title', 'translate', 'upper', 'zfill']"
     ]
    }
   ],
   "source": [
    "print(dir(str),end=\"\")"
   ]
  },
  {
   "cell_type": "markdown",
   "id": "f2d1c781",
   "metadata": {},
   "source": [
    "b.List"
   ]
  },
  {
   "cell_type": "code",
   "execution_count": null,
   "id": "62fde758",
   "metadata": {},
   "outputs": [],
   "source": [
    "List – A list represents a group of elements. A list can store different types of elements which can be modified. \n",
    "Lists are dynamic which means size is not fixed. Lists are represented using square bracket [ ].\n",
    "\n",
    "Ex:-  data = [10, 20, -50, 21.3, 'faruk']"
   ]
  },
  {
   "cell_type": "code",
   "execution_count": 11,
   "id": "da25e3ec",
   "metadata": {},
   "outputs": [
    {
     "name": "stdout",
     "output_type": "stream",
     "text": [
      "['__add__', '__class__', '__class_getitem__', '__contains__', '__delattr__', '__delitem__', '__dir__', '__doc__', '__eq__', '__format__', '__ge__', '__getattribute__', '__getitem__', '__gt__', '__hash__', '__iadd__', '__imul__', '__init__', '__init_subclass__', '__iter__', '__le__', '__len__', '__lt__', '__mul__', '__ne__', '__new__', '__reduce__', '__reduce_ex__', '__repr__', '__reversed__', '__rmul__', '__setattr__', '__setitem__', '__sizeof__', '__str__', '__subclasshook__', 'append', 'clear', 'copy', 'count', 'extend', 'index', 'insert', 'pop', 'remove', 'reverse', 'sort']"
     ]
    }
   ],
   "source": [
    "print(dir(list),end=\"\")"
   ]
  },
  {
   "cell_type": "markdown",
   "id": "84225411",
   "metadata": {},
   "source": [
    "c.Tuple"
   ]
  },
  {
   "cell_type": "code",
   "execution_count": null,
   "id": "2c121315",
   "metadata": {},
   "outputs": [],
   "source": [
    "Tuple – A tuple contains a group of elements which can be different types. \n",
    "It is similar to List but Tuples are read-only which means we can not modify it’s element. \n",
    "Tuples are represented using parentheses ( ).\n",
    "\n",
    "Ex:- data = (10, 20, -50, 21.3, 'faruk')"
   ]
  },
  {
   "cell_type": "code",
   "execution_count": 12,
   "id": "a9942b42",
   "metadata": {},
   "outputs": [
    {
     "name": "stdout",
     "output_type": "stream",
     "text": [
      "['__add__', '__class__', '__class_getitem__', '__contains__', '__delattr__', '__dir__', '__doc__', '__eq__', '__format__', '__ge__', '__getattribute__', '__getitem__', '__getnewargs__', '__gt__', '__hash__', '__init__', '__init_subclass__', '__iter__', '__le__', '__len__', '__lt__', '__mul__', '__ne__', '__new__', '__reduce__', '__reduce_ex__', '__repr__', '__rmul__', '__setattr__', '__sizeof__', '__str__', '__subclasshook__', 'count', 'index']"
     ]
    }
   ],
   "source": [
    "print(dir(tuple),end=\"\")"
   ]
  },
  {
   "cell_type": "markdown",
   "id": "a9ff5864",
   "metadata": {},
   "source": [
    "d.Range"
   ]
  },
  {
   "cell_type": "code",
   "execution_count": null,
   "id": "d1d134bc",
   "metadata": {},
   "outputs": [],
   "source": [
    "Range – Range represents a sequence of numbers. \n",
    "The numbers in the range are not modifiable.\n",
    "\n",
    "Ex:- rg = range(5) \t\t0 1 2 3 4 \n",
    "rg = range(10, 20, 2)\t10 12 14 16 18"
   ]
  },
  {
   "cell_type": "code",
   "execution_count": 13,
   "id": "8feb9b07",
   "metadata": {},
   "outputs": [
    {
     "name": "stdout",
     "output_type": "stream",
     "text": [
      "['__bool__', '__class__', '__contains__', '__delattr__', '__dir__', '__doc__', '__eq__', '__format__', '__ge__', '__getattribute__', '__getitem__', '__gt__', '__hash__', '__init__', '__init_subclass__', '__iter__', '__le__', '__len__', '__lt__', '__ne__', '__new__', '__reduce__', '__reduce_ex__', '__repr__', '__reversed__', '__setattr__', '__sizeof__', '__str__', '__subclasshook__', 'count', 'index', 'start', 'step', 'stop']"
     ]
    }
   ],
   "source": [
    "print(dir(range),end=\"\")"
   ]
  },
  {
   "cell_type": "markdown",
   "id": "b0b4fe68",
   "metadata": {},
   "source": [
    "### 4.Sets Types "
   ]
  },
  {
   "cell_type": "code",
   "execution_count": null,
   "id": "4cefb058",
   "metadata": {},
   "outputs": [],
   "source": [
    "A set is an unordered collection of elements much like a set in mathematics. \n",
    "The order of elements is not maintained in the sets. \n",
    "It means the elements may not appear in the same order as they are entered into the set. \n",
    "A set does not accept duplicate elements. \n",
    "Sets are unordered so we can not access its element using index.\n",
    "Sets are represented using curly brackets { }.\n",
    "Ex:- \n",
    "data = {10, 20, 30,  \"FARUK\", “srk”, 40}\n",
    "data = {10, 20, 30,  \"FARUK\", “srk”, 40, 10, 20}"
   ]
  },
  {
   "cell_type": "code",
   "execution_count": 14,
   "id": "d47868d0",
   "metadata": {},
   "outputs": [
    {
     "name": "stdout",
     "output_type": "stream",
     "text": [
      "['__and__', '__class__', '__class_getitem__', '__contains__', '__delattr__', '__dir__', '__doc__', '__eq__', '__format__', '__ge__', '__getattribute__', '__gt__', '__hash__', '__iand__', '__init__', '__init_subclass__', '__ior__', '__isub__', '__iter__', '__ixor__', '__le__', '__len__', '__lt__', '__ne__', '__new__', '__or__', '__rand__', '__reduce__', '__reduce_ex__', '__repr__', '__ror__', '__rsub__', '__rxor__', '__setattr__', '__sizeof__', '__str__', '__sub__', '__subclasshook__', '__xor__', 'add', 'clear', 'copy', 'difference', 'difference_update', 'discard', 'intersection', 'intersection_update', 'isdisjoint', 'issubset', 'issuperset', 'pop', 'remove', 'symmetric_difference', 'symmetric_difference_update', 'union', 'update']"
     ]
    }
   ],
   "source": [
    "print(dir(set),end=\"\")"
   ]
  },
  {
   "cell_type": "markdown",
   "id": "96aa0e9c",
   "metadata": {},
   "source": [
    "### 5.Mapping Type/ dict / Dictionary"
   ]
  },
  {
   "cell_type": "code",
   "execution_count": null,
   "id": "a8a5a2f4",
   "metadata": {},
   "outputs": [],
   "source": [
    "A map represents a group of elements in the form of key & value pairs.\n",
    "\n",
    "Ex:- \n",
    "data = {101: ‘Rahul’, 102: ‘Raj’, 103: ‘Simran’ }\n",
    "data = {‘rahul’:2000, ‘raj’:3000, ‘simran’:8000, }"
   ]
  },
  {
   "cell_type": "code",
   "execution_count": 15,
   "id": "308550fa",
   "metadata": {},
   "outputs": [
    {
     "name": "stdout",
     "output_type": "stream",
     "text": [
      "['__class__', '__class_getitem__', '__contains__', '__delattr__', '__delitem__', '__dir__', '__doc__', '__eq__', '__format__', '__ge__', '__getattribute__', '__getitem__', '__gt__', '__hash__', '__init__', '__init_subclass__', '__ior__', '__iter__', '__le__', '__len__', '__lt__', '__ne__', '__new__', '__or__', '__reduce__', '__reduce_ex__', '__repr__', '__reversed__', '__ror__', '__setattr__', '__setitem__', '__sizeof__', '__str__', '__subclasshook__', 'clear', 'copy', 'fromkeys', 'get', 'items', 'keys', 'pop', 'popitem', 'setdefault', 'update', 'values']"
     ]
    }
   ],
   "source": [
    "print(dir(dict),end=\"\")"
   ]
  },
  {
   "cell_type": "markdown",
   "id": "3e6fb91b",
   "metadata": {},
   "source": [
    "## Type Conversion"
   ]
  },
  {
   "cell_type": "code",
   "execution_count": null,
   "id": "e08c80d4",
   "metadata": {},
   "outputs": [],
   "source": [
    "Converting one data type into another data type is called Type Conversion. \n",
    "Type of Type Conversion:-\n",
    "Implicit Type Conversion \n",
    "Explicit Type Conversion\n",
    "\n",
    "Implicit Type Conversion\n",
    "In the Implicit type conversion, python automatically converts one data type into another data type."
   ]
  },
  {
   "cell_type": "code",
   "execution_count": 16,
   "id": "2b3954e1",
   "metadata": {},
   "outputs": [
    {
     "name": "stdout",
     "output_type": "stream",
     "text": [
      "2.5\n",
      "<class 'float'>\n",
      "15.5\n",
      "<class 'float'>\n",
      "HelloFaruk Mulani\n",
      "<class 'str'>\n"
     ]
    }
   ],
   "source": [
    "# Implicit Type Conversion Ex:- \n",
    "a = 5\n",
    "b = 2\n",
    "value = a / b\n",
    "print(value)\n",
    "print(type(value))\n",
    "\n",
    "x = 10\n",
    "y = 5.5\n",
    "total = x + y \n",
    "print(total)\n",
    "print(type(total))\n",
    "\n",
    "j = \"Hello\"\n",
    "k = \"Faruk Mulani\"\n",
    "p = j + k\n",
    "print(p)\n",
    "print(type(p))"
   ]
  },
  {
   "cell_type": "code",
   "execution_count": null,
   "id": "9bba7f4d",
   "metadata": {},
   "outputs": [],
   "source": [
    "Explicit Type Conversion\n",
    "In the Cast/Explicit Type Conversion, Programmer converts one data type into another data type.\n",
    "int (n)\n",
    "float (n)\n",
    "complex (n) \n",
    "complex (x, y) where x is real part and y is imaginary part\n",
    "str (n)\n",
    "list(n)\n",
    "tuple(n)\n",
    "bin (n)\n",
    "oct (n)\n",
    "hex (n )"
   ]
  },
  {
   "cell_type": "code",
   "execution_count": 17,
   "id": "55d97aca",
   "metadata": {},
   "outputs": [
    {
     "name": "stdout",
     "output_type": "stream",
     "text": [
      "<class 'str'>\n",
      "30\n",
      "10\n",
      "<class 'int'>\n",
      "10.0\n",
      "<class 'float'>\n",
      "(10+0j)\n",
      "<class 'complex'>\n",
      "10\n",
      "<class 'str'>\n",
      "('f', 'a', 'r', 'u', 'k', 'm', 'u', 'l', 'a', 'n', 'i')\n",
      "<class 'tuple'>\n",
      "['Rahul', 'pathan', 'SRK', 'jawan']\n",
      "<class 'list'>\n"
     ]
    }
   ],
   "source": [
    "# ex of Explicit Type Conversion:-\n",
    "# String to Integer\n",
    "q = 20\n",
    "u = '10'\n",
    "print(type(u))\n",
    "r = q + int(u)\n",
    "print(r)\n",
    "\n",
    "# Float to Integer\n",
    "n1 = 10.36\n",
    "vn1 = int(n1)\n",
    "print(vn1)\n",
    "print(type(vn1))\n",
    "\n",
    "# Integer to Float\n",
    "n2 = 10\n",
    "vn2 = float(n2)\n",
    "print(vn2)\n",
    "print(type(vn2))\n",
    "\n",
    "# Integer to Complex\n",
    "n3 = 10\n",
    "vn3 = complex(n3)\n",
    "print(vn3)\n",
    "print(type(vn3))\n",
    "\n",
    "# Integer to String\n",
    "n4 = 10\n",
    "vn4 = str(n4)\n",
    "print(vn4)\n",
    "print(type(vn4))\n",
    "\n",
    "# String to Tuple\n",
    "n5 = \"farukmulani\"\n",
    "vn5 = tuple(n5)\n",
    "print(vn5)\n",
    "print(type(vn5))\n",
    "\n",
    "# Tuple to List\n",
    "n5 = (\"Rahul\", \"pathan\", \"SRK\", \"jawan\")\n",
    "vn5 = list(n5)\n",
    "print(vn5)\n",
    "print(type(vn5))"
   ]
  },
  {
   "cell_type": "code",
   "execution_count": null,
   "id": "187bdd67",
   "metadata": {},
   "outputs": [],
   "source": []
  }
 ],
 "metadata": {
  "kernelspec": {
   "display_name": "Python 3 (ipykernel)",
   "language": "python",
   "name": "python3"
  },
  "language_info": {
   "codemirror_mode": {
    "name": "ipython",
    "version": 3
   },
   "file_extension": ".py",
   "mimetype": "text/x-python",
   "name": "python",
   "nbconvert_exporter": "python",
   "pygments_lexer": "ipython3",
   "version": "3.9.13"
  },
  "varInspector": {
   "cols": {
    "lenName": 16,
    "lenType": 16,
    "lenVar": 40
   },
   "kernels_config": {
    "python": {
     "delete_cmd_postfix": "",
     "delete_cmd_prefix": "del ",
     "library": "var_list.py",
     "varRefreshCmd": "print(var_dic_list())"
    },
    "r": {
     "delete_cmd_postfix": ") ",
     "delete_cmd_prefix": "rm(",
     "library": "var_list.r",
     "varRefreshCmd": "cat(var_dic_list()) "
    }
   },
   "types_to_exclude": [
    "module",
    "function",
    "builtin_function_or_method",
    "instance",
    "_Feature"
   ],
   "window_display": false
  }
 },
 "nbformat": 4,
 "nbformat_minor": 5
}
